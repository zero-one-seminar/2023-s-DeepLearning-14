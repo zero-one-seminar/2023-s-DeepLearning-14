{
 "cells": [
  {
   "cell_type": "code",
   "execution_count": 1,
   "metadata": {},
   "outputs": [],
   "source": [
    "import numpy as np"
   ]
  },
  {
   "cell_type": "code",
   "execution_count": 38,
   "metadata": {},
   "outputs": [],
   "source": [
    "def im2col(input_data, filter_h, filter_w, stride=1, pad=0):\n",
    "    H, W = input_data.shape\n",
    "    out_h = (H + 2*pad - filter_h)//stride + 1\n",
    "    out_w = (W + 2*pad - filter_w)//stride + 1\n",
    "\n",
    "    img = np.pad(input_data, [ (pad, pad), (pad, pad)], 'constant')\n",
    "    col = np.zeros((filter_h, filter_w, out_h, out_w))\n",
    "\n",
    "    for y in range(filter_h):\n",
    "        y_max = y + stride*out_h\n",
    "        for x in range(filter_w):\n",
    "            x_max = x + stride*out_w\n",
    "            col[ y, x, :, :] = img[ y:y_max:stride, x:x_max:stride]\n",
    "    col = col.transpose( 2, 3, 0, 1).reshape( out_h*out_w, -1)\n",
    "\n",
    "    return col\n",
    "\n",
    "def convolution(X, Y, padding = 0, stride = 1):\n",
    "    H, W = X.shape\n",
    "    FH, FW = Y.shape\n",
    "    out_h = 1 + int((H + 2*padding - FH) / stride)\n",
    "    out_w = 1 + int((W + 2*padding - FW) / stride)\n",
    "\n",
    "    col = im2col(X, FH, FW, stride, padding)\n",
    "    col_W = Y.reshape(1, -1).T\n",
    "\n",
    "    out = np.dot(col, col_W)\n",
    "    out = out.reshape(out_h, out_w)\n",
    "\n",
    "    return out"
   ]
  },
  {
   "cell_type": "code",
   "execution_count": 42,
   "metadata": {},
   "outputs": [
    {
     "name": "stdout",
     "output_type": "stream",
     "text": [
      "[[15. 16.]\n",
      " [ 6. 15.]]\n"
     ]
    }
   ],
   "source": [
    "X = np.array([\n",
    "    [1,2,3,0],\n",
    "    [0,1,2,3],\n",
    "    [3,0,1,2],\n",
    "    [2,3,0,1]\n",
    "])\n",
    "\n",
    "Y = np.array([\n",
    "    [2,0,1],\n",
    "    [0,1,2],\n",
    "    [1,0,2]\n",
    "])\n",
    "\n",
    "print(convolution(X, Y))"
   ]
  },
  {
   "cell_type": "code",
   "execution_count": 41,
   "metadata": {},
   "outputs": [
    {
     "name": "stdout",
     "output_type": "stream",
     "text": [
      "[[ 7. 12. 10.  2.]\n",
      " [ 4. 15. 16. 10.]\n",
      " [10.  6. 15.  6.]\n",
      " [ 8. 10.  4.  3.]]\n"
     ]
    }
   ],
   "source": [
    "print(convolution(X, Y, padding=1))"
   ]
  },
  {
   "cell_type": "code",
   "execution_count": 44,
   "metadata": {},
   "outputs": [
    {
     "name": "stdout",
     "output_type": "stream",
     "text": [
      "[[15. 17. 15.]\n",
      " [17. 15. 17.]\n",
      " [15. 17. 15.]]\n"
     ]
    }
   ],
   "source": [
    "Z= np.array([\n",
    "  [1,2,3,0,1,2,3],\n",
    "  [0,1,2,3,0,1,2],\n",
    "  [3,0,1,2,3,0,1],\n",
    "  [2,3,0,1,2,3,0],\n",
    "  [1,2,3,0,1,2,3],\n",
    "  [0,1,2,3,0,1,2],\n",
    "  [3,0,1,2,3,0,1]\n",
    "])\n",
    "\n",
    "print(convolution(Z, Y, padding=0, stride=2))"
   ]
  }
 ],
 "metadata": {
  "kernelspec": {
   "display_name": ".venv",
   "language": "python",
   "name": "python3"
  },
  "language_info": {
   "codemirror_mode": {
    "name": "ipython",
    "version": 3
   },
   "file_extension": ".py",
   "mimetype": "text/x-python",
   "name": "python",
   "nbconvert_exporter": "python",
   "pygments_lexer": "ipython3",
   "version": "3.9.4"
  },
  "orig_nbformat": 4
 },
 "nbformat": 4,
 "nbformat_minor": 2
}
