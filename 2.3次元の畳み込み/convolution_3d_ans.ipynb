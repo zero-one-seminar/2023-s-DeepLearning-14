{
 "cells": [
  {
   "attachments": {},
   "cell_type": "markdown",
   "metadata": {},
   "source": [
    "# 畳み込み\n",
    "## 2次元畳み込みから3次元畳み込みへ"
   ]
  },
  {
   "cell_type": "code",
   "execution_count": 15,
   "metadata": {},
   "outputs": [],
   "source": [
    "import numpy as np"
   ]
  },
  {
   "cell_type": "code",
   "execution_count": 25,
   "metadata": {},
   "outputs": [],
   "source": [
    "def conv2d(A, B):\n",
    "    \"\"\"二次元配列A, Bの畳み込みを計算する\n",
    "    - `scipy.signal.convolve2d`とは異なる実装なので注意が必要\n",
    "    \"\"\"\n",
    "    n = A.shape[0] # 配列Aの次元\n",
    "    m = B.shape[0] # 配列Bの次元\n",
    "    k = min(n, m) # 配列Aと配列Bの小さい方の次元\n",
    "    t = abs(n - m) + 1 # 戻り値の配列の次元\n",
    "\n",
    "    C = np.zeros((t, t))\n",
    "\n",
    "    for i in range(t):\n",
    "        for j in range(t):\n",
    "            a = A[i:i+k, j:j+k].flatten()\n",
    "            b = B.flatten()\n",
    "            C[i, j] = np.dot(a, b)\n",
    "            \n",
    "    return C"
   ]
  },
  {
   "cell_type": "code",
   "execution_count": 26,
   "metadata": {},
   "outputs": [],
   "source": [
    "A1 = np.array(\n",
    "    [[5, 0, 1],\n",
    "     [1, 3, 1],\n",
    "     [2, 4, 0]]\n",
    ")\n",
    "\n",
    "A2 = np.array(\n",
    "    [[7, 3, 1],\n",
    "     [5, 1, 2],\n",
    "     [0, 4, 0]]\n",
    ")\n",
    "\n",
    "A3 = np.array(\n",
    "    [[2, 1, 0],\n",
    "     [1, 0, 2],\n",
    "     [4, 7, 6]]\n",
    ")"
   ]
  },
  {
   "cell_type": "code",
   "execution_count": 27,
   "metadata": {},
   "outputs": [],
   "source": [
    "B1 = np.array(\n",
    "    [[1, 3],\n",
    "     [0, 1]]\n",
    ")\n",
    "\n",
    "B2 = np.array(\n",
    "    [[1, 3],\n",
    "     [0, 2]]\n",
    ")\n",
    "\n",
    "B3 = np.array(\n",
    "    [[2, 1],\n",
    "     [0, 3]]\n",
    ")"
   ]
  },
  {
   "cell_type": "code",
   "execution_count": 28,
   "metadata": {},
   "outputs": [],
   "source": [
    "C1 = conv2d(A1, B1)\n",
    "C2 = conv2d(A2, B2)\n",
    "C3 = conv2d(A3, B3)"
   ]
  },
  {
   "cell_type": "code",
   "execution_count": 29,
   "metadata": {},
   "outputs": [
    {
     "data": {
      "text/plain": [
       "array([[ 8.,  4.],\n",
       "       [14.,  6.]])"
      ]
     },
     "metadata": {},
     "output_type": "display_data"
    },
    {
     "data": {
      "text/plain": [
       "array([[18., 10.],\n",
       "       [16.,  7.]])"
      ]
     },
     "metadata": {},
     "output_type": "display_data"
    },
    {
     "data": {
      "text/plain": [
       "array([[ 5.,  8.],\n",
       "       [23., 20.]])"
      ]
     },
     "metadata": {},
     "output_type": "display_data"
    }
   ],
   "source": [
    "display(C1)\n",
    "display(C2)\n",
    "display(C3)"
   ]
  },
  {
   "cell_type": "code",
   "execution_count": 32,
   "metadata": {},
   "outputs": [
    {
     "data": {
      "text/plain": [
       "array([[31., 22.],\n",
       "       [53., 33.]])"
      ]
     },
     "execution_count": 32,
     "metadata": {},
     "output_type": "execute_result"
    }
   ],
   "source": [
    "OUT = C1 + C2 + C3\n",
    "OUT"
   ]
  }
 ],
 "metadata": {
  "kernelspec": {
   "display_name": "Python 3",
   "language": "python",
   "name": "python3"
  },
  "language_info": {
   "codemirror_mode": {
    "name": "ipython",
    "version": 3
   },
   "file_extension": ".py",
   "mimetype": "text/x-python",
   "name": "python",
   "nbconvert_exporter": "python",
   "pygments_lexer": "ipython3",
   "version": "3.10.9"
  },
  "orig_nbformat": 4
 },
 "nbformat": 4,
 "nbformat_minor": 2
}
